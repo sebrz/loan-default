{
 "cells": [
  {
   "cell_type": "markdown",
   "metadata": {},
   "source": [
    "Notebook para realizar el EDA del dataset"
   ]
  },
  {
   "cell_type": "code",
   "execution_count": 2,
   "metadata": {},
   "outputs": [],
   "source": [
    "import pandas as pd\n",
    "import numpy as np\n",
    "import matplotlib.pyplot as plt\n",
    "import seaborn as sns\n",
    "import os"
   ]
  },
  {
   "cell_type": "code",
   "execution_count": 3,
   "metadata": {},
   "outputs": [
    {
     "data": {
      "text/html": [
       "<div>\n",
       "<style scoped>\n",
       "    .dataframe tbody tr th:only-of-type {\n",
       "        vertical-align: middle;\n",
       "    }\n",
       "\n",
       "    .dataframe tbody tr th {\n",
       "        vertical-align: top;\n",
       "    }\n",
       "\n",
       "    .dataframe thead th {\n",
       "        text-align: right;\n",
       "    }\n",
       "</style>\n",
       "<table border=\"1\" class=\"dataframe\">\n",
       "  <thead>\n",
       "    <tr style=\"text-align: right;\">\n",
       "      <th></th>\n",
       "      <th>Unnamed: 0</th>\n",
       "      <th>id</th>\n",
       "      <th>member_id</th>\n",
       "      <th>loan_amnt</th>\n",
       "      <th>funded_amnt</th>\n",
       "      <th>funded_amnt_inv</th>\n",
       "      <th>term</th>\n",
       "      <th>int_rate</th>\n",
       "      <th>installment</th>\n",
       "      <th>emp_length</th>\n",
       "      <th>...</th>\n",
       "      <th>total_acc</th>\n",
       "      <th>total_pymnt</th>\n",
       "      <th>total_pymnt_inv</th>\n",
       "      <th>total_rec_prncp</th>\n",
       "      <th>total_rec_int</th>\n",
       "      <th>last_pymnt_d</th>\n",
       "      <th>last_pymnt_amnt</th>\n",
       "      <th>next_pymnt_d</th>\n",
       "      <th>last_credit_pull_d</th>\n",
       "      <th>repay_fail</th>\n",
       "    </tr>\n",
       "  </thead>\n",
       "  <tbody>\n",
       "    <tr>\n",
       "      <th>0</th>\n",
       "      <td>2</td>\n",
       "      <td>2</td>\n",
       "      <td>2</td>\n",
       "      <td>0.0</td>\n",
       "      <td>0.0</td>\n",
       "      <td>0.0</td>\n",
       "      <td>36 months</td>\n",
       "      <td>0.00</td>\n",
       "      <td>0.00</td>\n",
       "      <td>&lt; 1 year</td>\n",
       "      <td>...</td>\n",
       "      <td>1.0</td>\n",
       "      <td>0.000000</td>\n",
       "      <td>0.00</td>\n",
       "      <td>0.00</td>\n",
       "      <td>0.00</td>\n",
       "      <td>Jan-07</td>\n",
       "      <td>0.00</td>\n",
       "      <td>Jan-07</td>\n",
       "      <td>Jan-07</td>\n",
       "      <td>1</td>\n",
       "    </tr>\n",
       "    <tr>\n",
       "      <th>1</th>\n",
       "      <td>3</td>\n",
       "      <td>545583</td>\n",
       "      <td>703644</td>\n",
       "      <td>2500.0</td>\n",
       "      <td>2500.0</td>\n",
       "      <td>2500.0</td>\n",
       "      <td>36 months</td>\n",
       "      <td>13.98</td>\n",
       "      <td>85.42</td>\n",
       "      <td>4 years</td>\n",
       "      <td>...</td>\n",
       "      <td>10.0</td>\n",
       "      <td>3075.291779</td>\n",
       "      <td>3075.29</td>\n",
       "      <td>2500.00</td>\n",
       "      <td>575.29</td>\n",
       "      <td>Jul-13</td>\n",
       "      <td>90.85</td>\n",
       "      <td>Aug-13</td>\n",
       "      <td>Jun-16</td>\n",
       "      <td>0</td>\n",
       "    </tr>\n",
       "    <tr>\n",
       "      <th>2</th>\n",
       "      <td>4</td>\n",
       "      <td>532101</td>\n",
       "      <td>687836</td>\n",
       "      <td>5000.0</td>\n",
       "      <td>5000.0</td>\n",
       "      <td>5000.0</td>\n",
       "      <td>36 months</td>\n",
       "      <td>15.95</td>\n",
       "      <td>175.67</td>\n",
       "      <td>4 years</td>\n",
       "      <td>...</td>\n",
       "      <td>15.0</td>\n",
       "      <td>2948.760000</td>\n",
       "      <td>2948.76</td>\n",
       "      <td>1909.02</td>\n",
       "      <td>873.81</td>\n",
       "      <td>Nov-11</td>\n",
       "      <td>175.67</td>\n",
       "      <td>NaN</td>\n",
       "      <td>Mar-12</td>\n",
       "      <td>1</td>\n",
       "    </tr>\n",
       "    <tr>\n",
       "      <th>3</th>\n",
       "      <td>5</td>\n",
       "      <td>877788</td>\n",
       "      <td>1092507</td>\n",
       "      <td>7000.0</td>\n",
       "      <td>7000.0</td>\n",
       "      <td>7000.0</td>\n",
       "      <td>36 months</td>\n",
       "      <td>9.91</td>\n",
       "      <td>225.58</td>\n",
       "      <td>10+ years</td>\n",
       "      <td>...</td>\n",
       "      <td>20.0</td>\n",
       "      <td>8082.391880</td>\n",
       "      <td>8082.39</td>\n",
       "      <td>7000.00</td>\n",
       "      <td>1082.39</td>\n",
       "      <td>Mar-14</td>\n",
       "      <td>1550.27</td>\n",
       "      <td>NaN</td>\n",
       "      <td>Mar-14</td>\n",
       "      <td>0</td>\n",
       "    </tr>\n",
       "    <tr>\n",
       "      <th>4</th>\n",
       "      <td>6</td>\n",
       "      <td>875406</td>\n",
       "      <td>1089981</td>\n",
       "      <td>2000.0</td>\n",
       "      <td>2000.0</td>\n",
       "      <td>2000.0</td>\n",
       "      <td>36 months</td>\n",
       "      <td>5.42</td>\n",
       "      <td>60.32</td>\n",
       "      <td>10+ years</td>\n",
       "      <td>...</td>\n",
       "      <td>15.0</td>\n",
       "      <td>2161.663244</td>\n",
       "      <td>2161.66</td>\n",
       "      <td>2000.00</td>\n",
       "      <td>161.66</td>\n",
       "      <td>Feb-14</td>\n",
       "      <td>53.12</td>\n",
       "      <td>NaN</td>\n",
       "      <td>Jun-16</td>\n",
       "      <td>0</td>\n",
       "    </tr>\n",
       "  </tbody>\n",
       "</table>\n",
       "<p>5 rows × 37 columns</p>\n",
       "</div>"
      ],
      "text/plain": [
       "   Unnamed: 0      id  member_id  loan_amnt  funded_amnt  funded_amnt_inv  \\\n",
       "0           2       2          2        0.0          0.0              0.0   \n",
       "1           3  545583     703644     2500.0       2500.0           2500.0   \n",
       "2           4  532101     687836     5000.0       5000.0           5000.0   \n",
       "3           5  877788    1092507     7000.0       7000.0           7000.0   \n",
       "4           6  875406    1089981     2000.0       2000.0           2000.0   \n",
       "\n",
       "        term  int_rate  installment emp_length  ... total_acc  total_pymnt  \\\n",
       "0  36 months      0.00         0.00   < 1 year  ...       1.0     0.000000   \n",
       "1  36 months     13.98        85.42    4 years  ...      10.0  3075.291779   \n",
       "2  36 months     15.95       175.67    4 years  ...      15.0  2948.760000   \n",
       "3  36 months      9.91       225.58  10+ years  ...      20.0  8082.391880   \n",
       "4  36 months      5.42        60.32  10+ years  ...      15.0  2161.663244   \n",
       "\n",
       "  total_pymnt_inv total_rec_prncp total_rec_int last_pymnt_d last_pymnt_amnt  \\\n",
       "0            0.00            0.00          0.00       Jan-07            0.00   \n",
       "1         3075.29         2500.00        575.29       Jul-13           90.85   \n",
       "2         2948.76         1909.02        873.81       Nov-11          175.67   \n",
       "3         8082.39         7000.00       1082.39       Mar-14         1550.27   \n",
       "4         2161.66         2000.00        161.66       Feb-14           53.12   \n",
       "\n",
       "  next_pymnt_d  last_credit_pull_d  repay_fail  \n",
       "0       Jan-07              Jan-07           1  \n",
       "1       Aug-13              Jun-16           0  \n",
       "2          NaN              Mar-12           1  \n",
       "3          NaN              Mar-14           0  \n",
       "4          NaN              Jun-16           0  \n",
       "\n",
       "[5 rows x 37 columns]"
      ]
     },
     "execution_count": 3,
     "metadata": {},
     "output_type": "execute_result"
    }
   ],
   "source": [
    "raw_data = pd.read_csv('../datasets/loan_default_data.csv', encoding='latin1')\n",
    "raw_data.head()"
   ]
  },
  {
   "cell_type": "markdown",
   "metadata": {},
   "source": [
    "Utilizamos `encoding='latin1'` porque al parecer el notebook contiene caracteres que no se pueden decodificar usando el default de `pd.read_csv`\n",
    "\n",
    "### Columnas a eliminar\n",
    "\n",
    "1. Podemos ver que **Unnamed: 0** parece ser un índice que se añadió en algún punto del proceso de compilación de datos, por lo que no es necesario mantenerlo.\n",
    "2. **zip_code** es tal vez demasiado específico para los fines de este proyecto, por lo cual también será eliminado.\n",
    "3. No tenemos una tabla adicional de clientes o préstamos, por lo que **member_id** y **id** también pueden ser descartados.\n",
    "4. No nos interesa la fecha del pago siguiente ya que solo queremos ver si hay morosidad.\n",
    "5. También deshagamonos de **last_credit_pull_d**\n",
    "\n",
    "### Otras observaciones\n",
    "\n",
    "* Vemos que la primera fila parece ser algún tipo de error, ya que describe un préstamo de $0. Sería bueno ver si hay otras instancias así y eliminarlas.\n",
    "* Term parece ser el número de meses que dura el préstamo. Sería bueno reemplazarlo por una columna numérica llamada \"term_months\"\n",
    "* Existen algunas columnas relacionadas con el historial crediticio, pero cuya relación con la morosidad podría ser inconsistente, tal vez sea apropiado removerlas en pasos siguientes. Muchas de estas parecen ser redundantes entre si. Eliminar **earliest_cr_line, inq_last_6mths, revol_bal, revol_util, total_acc**.\n",
    "* Para los fines de este análisis, nos interesa solamente cuanto se ha pagado, eliminar **total_ptmnt_inv**.\n",
    "* Habría que ver que tanta diferencia hay entre las filas loan_amnt, funded_amnt, y funded_amnt_inv. Tal vez sea buena idea mantener solamente una de las tres.\n",
    "* Las fechas parecen estar en un formato *mes-año*, encontrar la manera de verificar que sea el caso. El dataset se actualizó por última vez en el 2023, por lo que no debería haber valores mayores a 23 en la parte del año (Luego de eliminar ciertas columnas se comprobó que los dígitos si corresponden al año)."
   ]
  },
  {
   "cell_type": "code",
   "execution_count": 4,
   "metadata": {},
   "outputs": [
    {
     "data": {
      "text/html": [
       "<div>\n",
       "<style scoped>\n",
       "    .dataframe tbody tr th:only-of-type {\n",
       "        vertical-align: middle;\n",
       "    }\n",
       "\n",
       "    .dataframe tbody tr th {\n",
       "        vertical-align: top;\n",
       "    }\n",
       "\n",
       "    .dataframe thead th {\n",
       "        text-align: right;\n",
       "    }\n",
       "</style>\n",
       "<table border=\"1\" class=\"dataframe\">\n",
       "  <thead>\n",
       "    <tr style=\"text-align: right;\">\n",
       "      <th></th>\n",
       "      <th>loan_amnt</th>\n",
       "      <th>funded_amnt</th>\n",
       "      <th>funded_amnt_inv</th>\n",
       "      <th>term</th>\n",
       "      <th>int_rate</th>\n",
       "      <th>installment</th>\n",
       "      <th>emp_length</th>\n",
       "      <th>home_ownership</th>\n",
       "      <th>annual_inc</th>\n",
       "      <th>verification_status</th>\n",
       "      <th>...</th>\n",
       "      <th>mths_since_last_delinq</th>\n",
       "      <th>open_acc</th>\n",
       "      <th>pub_rec</th>\n",
       "      <th>total_pymnt</th>\n",
       "      <th>total_pymnt_inv</th>\n",
       "      <th>total_rec_prncp</th>\n",
       "      <th>total_rec_int</th>\n",
       "      <th>last_pymnt_d</th>\n",
       "      <th>last_pymnt_amnt</th>\n",
       "      <th>repay_fail</th>\n",
       "    </tr>\n",
       "  </thead>\n",
       "  <tbody>\n",
       "    <tr>\n",
       "      <th>0</th>\n",
       "      <td>0.0</td>\n",
       "      <td>0.0</td>\n",
       "      <td>0.0</td>\n",
       "      <td>36 months</td>\n",
       "      <td>0.00</td>\n",
       "      <td>0.00</td>\n",
       "      <td>&lt; 1 year</td>\n",
       "      <td>RENT</td>\n",
       "      <td>0.0</td>\n",
       "      <td>Not Verified</td>\n",
       "      <td>...</td>\n",
       "      <td>NaN</td>\n",
       "      <td>0.0</td>\n",
       "      <td>0.0</td>\n",
       "      <td>0.000000</td>\n",
       "      <td>0.00</td>\n",
       "      <td>0.00</td>\n",
       "      <td>0.00</td>\n",
       "      <td>Jan-07</td>\n",
       "      <td>0.00</td>\n",
       "      <td>1</td>\n",
       "    </tr>\n",
       "    <tr>\n",
       "      <th>1</th>\n",
       "      <td>2500.0</td>\n",
       "      <td>2500.0</td>\n",
       "      <td>2500.0</td>\n",
       "      <td>36 months</td>\n",
       "      <td>13.98</td>\n",
       "      <td>85.42</td>\n",
       "      <td>4 years</td>\n",
       "      <td>RENT</td>\n",
       "      <td>20004.0</td>\n",
       "      <td>Not Verified</td>\n",
       "      <td>...</td>\n",
       "      <td>NaN</td>\n",
       "      <td>7.0</td>\n",
       "      <td>0.0</td>\n",
       "      <td>3075.291779</td>\n",
       "      <td>3075.29</td>\n",
       "      <td>2500.00</td>\n",
       "      <td>575.29</td>\n",
       "      <td>Jul-13</td>\n",
       "      <td>90.85</td>\n",
       "      <td>0</td>\n",
       "    </tr>\n",
       "    <tr>\n",
       "      <th>2</th>\n",
       "      <td>5000.0</td>\n",
       "      <td>5000.0</td>\n",
       "      <td>5000.0</td>\n",
       "      <td>36 months</td>\n",
       "      <td>15.95</td>\n",
       "      <td>175.67</td>\n",
       "      <td>4 years</td>\n",
       "      <td>RENT</td>\n",
       "      <td>59000.0</td>\n",
       "      <td>Not Verified</td>\n",
       "      <td>...</td>\n",
       "      <td>59.0</td>\n",
       "      <td>7.0</td>\n",
       "      <td>0.0</td>\n",
       "      <td>2948.760000</td>\n",
       "      <td>2948.76</td>\n",
       "      <td>1909.02</td>\n",
       "      <td>873.81</td>\n",
       "      <td>Nov-11</td>\n",
       "      <td>175.67</td>\n",
       "      <td>1</td>\n",
       "    </tr>\n",
       "    <tr>\n",
       "      <th>3</th>\n",
       "      <td>7000.0</td>\n",
       "      <td>7000.0</td>\n",
       "      <td>7000.0</td>\n",
       "      <td>36 months</td>\n",
       "      <td>9.91</td>\n",
       "      <td>225.58</td>\n",
       "      <td>10+ years</td>\n",
       "      <td>MORTGAGE</td>\n",
       "      <td>53796.0</td>\n",
       "      <td>Not Verified</td>\n",
       "      <td>...</td>\n",
       "      <td>3.0</td>\n",
       "      <td>7.0</td>\n",
       "      <td>0.0</td>\n",
       "      <td>8082.391880</td>\n",
       "      <td>8082.39</td>\n",
       "      <td>7000.00</td>\n",
       "      <td>1082.39</td>\n",
       "      <td>Mar-14</td>\n",
       "      <td>1550.27</td>\n",
       "      <td>0</td>\n",
       "    </tr>\n",
       "    <tr>\n",
       "      <th>4</th>\n",
       "      <td>2000.0</td>\n",
       "      <td>2000.0</td>\n",
       "      <td>2000.0</td>\n",
       "      <td>36 months</td>\n",
       "      <td>5.42</td>\n",
       "      <td>60.32</td>\n",
       "      <td>10+ years</td>\n",
       "      <td>RENT</td>\n",
       "      <td>30000.0</td>\n",
       "      <td>Not Verified</td>\n",
       "      <td>...</td>\n",
       "      <td>72.0</td>\n",
       "      <td>7.0</td>\n",
       "      <td>0.0</td>\n",
       "      <td>2161.663244</td>\n",
       "      <td>2161.66</td>\n",
       "      <td>2000.00</td>\n",
       "      <td>161.66</td>\n",
       "      <td>Feb-14</td>\n",
       "      <td>53.12</td>\n",
       "      <td>0</td>\n",
       "    </tr>\n",
       "  </tbody>\n",
       "</table>\n",
       "<p>5 rows × 26 columns</p>\n",
       "</div>"
      ],
      "text/plain": [
       "   loan_amnt  funded_amnt  funded_amnt_inv       term  int_rate  installment  \\\n",
       "0        0.0          0.0              0.0  36 months      0.00         0.00   \n",
       "1     2500.0       2500.0           2500.0  36 months     13.98        85.42   \n",
       "2     5000.0       5000.0           5000.0  36 months     15.95       175.67   \n",
       "3     7000.0       7000.0           7000.0  36 months      9.91       225.58   \n",
       "4     2000.0       2000.0           2000.0  36 months      5.42        60.32   \n",
       "\n",
       "  emp_length home_ownership  annual_inc verification_status  ...  \\\n",
       "0   < 1 year           RENT         0.0        Not Verified  ...   \n",
       "1    4 years           RENT     20004.0        Not Verified  ...   \n",
       "2    4 years           RENT     59000.0        Not Verified  ...   \n",
       "3  10+ years       MORTGAGE     53796.0        Not Verified  ...   \n",
       "4  10+ years           RENT     30000.0        Not Verified  ...   \n",
       "\n",
       "  mths_since_last_delinq open_acc pub_rec  total_pymnt  total_pymnt_inv  \\\n",
       "0                    NaN      0.0     0.0     0.000000             0.00   \n",
       "1                    NaN      7.0     0.0  3075.291779          3075.29   \n",
       "2                   59.0      7.0     0.0  2948.760000          2948.76   \n",
       "3                    3.0      7.0     0.0  8082.391880          8082.39   \n",
       "4                   72.0      7.0     0.0  2161.663244          2161.66   \n",
       "\n",
       "   total_rec_prncp  total_rec_int  last_pymnt_d  last_pymnt_amnt  repay_fail  \n",
       "0             0.00           0.00        Jan-07             0.00           1  \n",
       "1          2500.00         575.29        Jul-13            90.85           0  \n",
       "2          1909.02         873.81        Nov-11           175.67           1  \n",
       "3          7000.00        1082.39        Mar-14          1550.27           0  \n",
       "4          2000.00         161.66        Feb-14            53.12           0  \n",
       "\n",
       "[5 rows x 26 columns]"
      ]
     },
     "execution_count": 4,
     "metadata": {},
     "output_type": "execute_result"
    }
   ],
   "source": [
    "# Eliminemos las columnas que no nos interesan\n",
    "columns_to_drop = ['Unnamed: 0', 'zip_code', 'member_id', 'id', 'last_credit_pull_d',\n",
    "                   'next_pymnt_d', 'earliest_cr_line', 'inq_last_6mths', 'revol_bal',\n",
    "                   'revol_util', 'total_acc']\n",
    "raw_data = raw_data.drop(columns=columns_to_drop)\n",
    "\n",
    "raw_data.head()"
   ]
  },
  {
   "cell_type": "code",
   "execution_count": 5,
   "metadata": {},
   "outputs": [
    {
     "name": "stdout",
     "output_type": "stream",
     "text": [
      "loan_amnt                     1\n",
      "funded_amnt                   1\n",
      "funded_amnt_inv               1\n",
      "term                          0\n",
      "int_rate                      0\n",
      "installment                   1\n",
      "emp_length                  993\n",
      "home_ownership                0\n",
      "annual_inc                    2\n",
      "verification_status           0\n",
      "issue_d                       0\n",
      "loan_status                   0\n",
      "purpose                       0\n",
      "addr_state                    0\n",
      "dti                           0\n",
      "delinq_2yrs                   1\n",
      "mths_since_last_delinq    24363\n",
      "open_acc                      1\n",
      "pub_rec                       1\n",
      "total_pymnt                   1\n",
      "total_pymnt_inv               1\n",
      "total_rec_prncp               1\n",
      "total_rec_int                 1\n",
      "last_pymnt_d                 71\n",
      "last_pymnt_amnt               1\n",
      "repay_fail                    0\n",
      "dtype: int64\n"
     ]
    }
   ],
   "source": [
    "# Veamos el número de valores nulos en las columnas\n",
    "nan_counts = raw_data.isnull().sum()\n",
    "print(nan_counts)"
   ]
  },
  {
   "cell_type": "markdown",
   "metadata": {},
   "source": [
    "Parece ser que tenemos una fila con errores ademas de la primera que contiene ceros. Considerar eliminarla.\n",
    "\n",
    "Podemos observar ciertos valores NaN presentes en mayor cantidad en ciertas columnas:\n",
    "\n",
    "* emp_lenght: podrian ser personas desempleadas, verificar con annual_inc como se ven los ingresos de estas personas. Considerar reemplazar con ceros.\n",
    "* mths_since_last_delinq: la interpretación obvia es que son personas que no han tenido problemas con los pagos. Verificar el rango de valores, e inputar un valor alto para estas personas.\n",
    "* last_pymnt_d: quizás son personas que nunca realizaron un pago. Se podría generar una columna time_to_delinq para explorar si hay alguna relación entre las otras columnas y el tiempo en el cuál dejan de recibirse pagos después de que una persona ha sacado un préstamo. Considerar inputar issue_d en estos valores para realizar el cálculo."
   ]
  },
  {
   "cell_type": "code",
   "execution_count": 6,
   "metadata": {},
   "outputs": [
    {
     "name": "stdout",
     "output_type": "stream",
     "text": [
      "    loan_amnt  funded_amnt  funded_amnt_inv       term  int_rate  installment  \\\n",
      "54        NaN          NaN              NaN  60 months    100.99          NaN   \n",
      "\n",
      "   emp_length home_ownership  annual_inc verification_status  ...  \\\n",
      "54  10+ years       MORTGAGE         NaN            Verified  ...   \n",
      "\n",
      "   mths_since_last_delinq open_acc pub_rec total_pymnt  total_pymnt_inv  \\\n",
      "54                    0.0      NaN     NaN         NaN              NaN   \n",
      "\n",
      "    total_rec_prncp  total_rec_int  last_pymnt_d  last_pymnt_amnt  repay_fail  \n",
      "54              NaN            NaN        Jan-99              NaN           0  \n",
      "\n",
      "[1 rows x 26 columns]\n"
     ]
    }
   ],
   "source": [
    "rows_with_nan_open_acc = raw_data[raw_data['open_acc'].isnull()]\n",
    "print(rows_with_nan_open_acc)"
   ]
  },
  {
   "cell_type": "code",
   "execution_count": 7,
   "metadata": {},
   "outputs": [
    {
     "name": "stdout",
     "output_type": "stream",
     "text": [
      "    loan_amnt  funded_amnt  funded_amnt_inv       term  int_rate  installment  \\\n",
      "52    10000.0       9550.0      9418.065777  60 months     10.75       206.46   \n",
      "53    12000.0      12000.0     11955.059290  36 months     12.73       402.77   \n",
      "54        NaN          NaN              NaN  60 months    100.99          NaN   \n",
      "55    19250.0      19250.0     19250.000000  60 months     14.79       455.84   \n",
      "56    11000.0      11000.0     10975.000000  60 months     10.37       235.73   \n",
      "\n",
      "   emp_length home_ownership  annual_inc verification_status  ...  \\\n",
      "52    5 years       MORTGAGE     75000.0        Not Verified  ...   \n",
      "53    4 years            OWN     31000.0        Not Verified  ...   \n",
      "54  10+ years       MORTGAGE         NaN            Verified  ...   \n",
      "55    8 years       MORTGAGE     65004.0            Verified  ...   \n",
      "56  10+ years       MORTGAGE     48000.0            Verified  ...   \n",
      "\n",
      "   mths_since_last_delinq open_acc pub_rec  total_pymnt  total_pymnt_inv  \\\n",
      "52                    NaN     10.0     0.0  11652.60810         11478.75   \n",
      "53                    NaN      5.0     0.0  14501.22566         14439.49   \n",
      "54                    0.0      NaN     NaN          NaN              NaN   \n",
      "55                    NaN      6.0     0.0  26715.93000         26715.93   \n",
      "56                   75.0      5.0     0.0  14068.66001         14036.69   \n",
      "\n",
      "    total_rec_prncp  total_rec_int  last_pymnt_d  last_pymnt_amnt  repay_fail  \n",
      "52           9550.0        2102.61        Jan-13          5463.99           0  \n",
      "53          12000.0        2501.23        Jun-13           466.45           0  \n",
      "54              NaN            NaN        Jan-99              NaN           0  \n",
      "55          19250.0        7465.93        Jul-15            56.73           0  \n",
      "56          11000.0        3068.66        Aug-15          2310.28           0  \n",
      "\n",
      "[5 rows x 26 columns]\n"
     ]
    }
   ],
   "source": [
    "print(raw_data.iloc[52:57])"
   ]
  },
  {
   "cell_type": "markdown",
   "metadata": {},
   "source": [
    "Vemos que la fila 54 no aporta mucho, y tampoco causa algún problema en registros cercanos (los valores de las filas anteriores y subsequentes parecen tener sentido). Por lo tanto eliminaremos esta fila durante el data wrangling."
   ]
  },
  {
   "cell_type": "code",
   "execution_count": 8,
   "metadata": {},
   "outputs": [
    {
     "data": {
      "image/png": "[encoded data removed]",
      "text/plain": [
       "<Figure size 1500x500 with 3 Axes>"
      ]
     },
     "metadata": {},
     "output_type": "display_data"
    }
   ],
   "source": [
    "# Analicemos las columnas, empezemos creando histogramas de loan_amnt, funded_amnt,\n",
    "# y funded_amnt_inv para ver si tienen distribuciones similares\n",
    "plt.figure(figsize=(15, 5))\n",
    "# Histograma loan_amnt\n",
    "plt.subplot(1, 3, 1)\n",
    "plt.hist(raw_data['loan_amnt'], bins=30, color='blue', alpha=0.7)\n",
    "plt.title('Loan Amount Distribution')\n",
    "plt.xlabel('Loan Amount')\n",
    "plt.ylabel('Frequency')\n",
    "\n",
    "# Histograma funded_amnt\n",
    "plt.subplot(1, 3, 2)\n",
    "plt.hist(raw_data['funded_amnt'], bins=30, color='green', alpha=0.7)\n",
    "plt.title('Funded Amount Distribution')\n",
    "plt.xlabel('Funded Amount')\n",
    "plt.ylabel('Frequency')\n",
    "\n",
    "# Histograma  funded_amnt_inv\n",
    "plt.subplot(1, 3, 3)\n",
    "plt.hist(raw_data['funded_amnt_inv'], bins=30, color='orange', alpha=0.7)\n",
    "plt.title('Funded Amount (Investor) Distribution')\n",
    "plt.xlabel('Funded Amount (Investor)')\n",
    "plt.ylabel('Frequency')\n",
    "\n",
    "# Show the plots\n",
    "plt.tight_layout()\n",
    "plt.show()"
   ]
  },
  {
   "cell_type": "markdown",
   "metadata": {},
   "source": [
    "Las distribuciones son bastante similares, podríamos considerar quedarnos solo con loan_amnt y eliminar **funded_amnt** y **funded_amnt_inv**."
   ]
  },
  {
   "cell_type": "code",
   "execution_count": 9,
   "metadata": {},
   "outputs": [
    {
     "data": {
      "text/html": [
       "<div>\n",
       "<style scoped>\n",
       "    .dataframe tbody tr th:only-of-type {\n",
       "        vertical-align: middle;\n",
       "    }\n",
       "\n",
       "    .dataframe tbody tr th {\n",
       "        vertical-align: top;\n",
       "    }\n",
       "\n",
       "    .dataframe thead th {\n",
       "        text-align: right;\n",
       "    }\n",
       "</style>\n",
       "<table border=\"1\" class=\"dataframe\">\n",
       "  <thead>\n",
       "    <tr style=\"text-align: right;\">\n",
       "      <th></th>\n",
       "      <th>loan_amnt</th>\n",
       "      <th>term</th>\n",
       "      <th>int_rate</th>\n",
       "      <th>installment</th>\n",
       "      <th>emp_length</th>\n",
       "      <th>home_ownership</th>\n",
       "      <th>annual_inc</th>\n",
       "      <th>verification_status</th>\n",
       "      <th>issue_d</th>\n",
       "      <th>loan_status</th>\n",
       "      <th>...</th>\n",
       "      <th>mths_since_last_delinq</th>\n",
       "      <th>open_acc</th>\n",
       "      <th>pub_rec</th>\n",
       "      <th>total_pymnt</th>\n",
       "      <th>total_pymnt_inv</th>\n",
       "      <th>total_rec_prncp</th>\n",
       "      <th>total_rec_int</th>\n",
       "      <th>last_pymnt_d</th>\n",
       "      <th>last_pymnt_amnt</th>\n",
       "      <th>repay_fail</th>\n",
       "    </tr>\n",
       "  </thead>\n",
       "  <tbody>\n",
       "    <tr>\n",
       "      <th>0</th>\n",
       "      <td>0.0</td>\n",
       "      <td>36 months</td>\n",
       "      <td>0.00</td>\n",
       "      <td>0.00</td>\n",
       "      <td>&lt; 1 year</td>\n",
       "      <td>RENT</td>\n",
       "      <td>0.0</td>\n",
       "      <td>Not Verified</td>\n",
       "      <td>Dec-99</td>\n",
       "      <td>Charged Off</td>\n",
       "      <td>...</td>\n",
       "      <td>NaN</td>\n",
       "      <td>0.0</td>\n",
       "      <td>0.0</td>\n",
       "      <td>0.000000</td>\n",
       "      <td>0.00</td>\n",
       "      <td>0.00</td>\n",
       "      <td>0.00</td>\n",
       "      <td>Jan-07</td>\n",
       "      <td>0.00</td>\n",
       "      <td>1</td>\n",
       "    </tr>\n",
       "    <tr>\n",
       "      <th>1</th>\n",
       "      <td>2500.0</td>\n",
       "      <td>36 months</td>\n",
       "      <td>13.98</td>\n",
       "      <td>85.42</td>\n",
       "      <td>4 years</td>\n",
       "      <td>RENT</td>\n",
       "      <td>20004.0</td>\n",
       "      <td>Not Verified</td>\n",
       "      <td>Jul-10</td>\n",
       "      <td>Does not meet the credit policy. Status:Fully ...</td>\n",
       "      <td>...</td>\n",
       "      <td>NaN</td>\n",
       "      <td>7.0</td>\n",
       "      <td>0.0</td>\n",
       "      <td>3075.291779</td>\n",
       "      <td>3075.29</td>\n",
       "      <td>2500.00</td>\n",
       "      <td>575.29</td>\n",
       "      <td>Jul-13</td>\n",
       "      <td>90.85</td>\n",
       "      <td>0</td>\n",
       "    </tr>\n",
       "    <tr>\n",
       "      <th>2</th>\n",
       "      <td>5000.0</td>\n",
       "      <td>36 months</td>\n",
       "      <td>15.95</td>\n",
       "      <td>175.67</td>\n",
       "      <td>4 years</td>\n",
       "      <td>RENT</td>\n",
       "      <td>59000.0</td>\n",
       "      <td>Not Verified</td>\n",
       "      <td>Jun-10</td>\n",
       "      <td>Charged Off</td>\n",
       "      <td>...</td>\n",
       "      <td>59.0</td>\n",
       "      <td>7.0</td>\n",
       "      <td>0.0</td>\n",
       "      <td>2948.760000</td>\n",
       "      <td>2948.76</td>\n",
       "      <td>1909.02</td>\n",
       "      <td>873.81</td>\n",
       "      <td>Nov-11</td>\n",
       "      <td>175.67</td>\n",
       "      <td>1</td>\n",
       "    </tr>\n",
       "    <tr>\n",
       "      <th>3</th>\n",
       "      <td>7000.0</td>\n",
       "      <td>36 months</td>\n",
       "      <td>9.91</td>\n",
       "      <td>225.58</td>\n",
       "      <td>10+ years</td>\n",
       "      <td>MORTGAGE</td>\n",
       "      <td>53796.0</td>\n",
       "      <td>Not Verified</td>\n",
       "      <td>Sep-11</td>\n",
       "      <td>Fully Paid</td>\n",
       "      <td>...</td>\n",
       "      <td>3.0</td>\n",
       "      <td>7.0</td>\n",
       "      <td>0.0</td>\n",
       "      <td>8082.391880</td>\n",
       "      <td>8082.39</td>\n",
       "      <td>7000.00</td>\n",
       "      <td>1082.39</td>\n",
       "      <td>Mar-14</td>\n",
       "      <td>1550.27</td>\n",
       "      <td>0</td>\n",
       "    </tr>\n",
       "    <tr>\n",
       "      <th>4</th>\n",
       "      <td>2000.0</td>\n",
       "      <td>36 months</td>\n",
       "      <td>5.42</td>\n",
       "      <td>60.32</td>\n",
       "      <td>10+ years</td>\n",
       "      <td>RENT</td>\n",
       "      <td>30000.0</td>\n",
       "      <td>Not Verified</td>\n",
       "      <td>Sep-11</td>\n",
       "      <td>Fully Paid</td>\n",
       "      <td>...</td>\n",
       "      <td>72.0</td>\n",
       "      <td>7.0</td>\n",
       "      <td>0.0</td>\n",
       "      <td>2161.663244</td>\n",
       "      <td>2161.66</td>\n",
       "      <td>2000.00</td>\n",
       "      <td>161.66</td>\n",
       "      <td>Feb-14</td>\n",
       "      <td>53.12</td>\n",
       "      <td>0</td>\n",
       "    </tr>\n",
       "  </tbody>\n",
       "</table>\n",
       "<p>5 rows × 24 columns</p>\n",
       "</div>"
      ],
      "text/plain": [
       "   loan_amnt       term  int_rate  installment emp_length home_ownership  \\\n",
       "0        0.0  36 months      0.00         0.00   < 1 year           RENT   \n",
       "1     2500.0  36 months     13.98        85.42    4 years           RENT   \n",
       "2     5000.0  36 months     15.95       175.67    4 years           RENT   \n",
       "3     7000.0  36 months      9.91       225.58  10+ years       MORTGAGE   \n",
       "4     2000.0  36 months      5.42        60.32  10+ years           RENT   \n",
       "\n",
       "   annual_inc verification_status issue_d  \\\n",
       "0         0.0        Not Verified  Dec-99   \n",
       "1     20004.0        Not Verified  Jul-10   \n",
       "2     59000.0        Not Verified  Jun-10   \n",
       "3     53796.0        Not Verified  Sep-11   \n",
       "4     30000.0        Not Verified  Sep-11   \n",
       "\n",
       "                                         loan_status  ...  \\\n",
       "0                                        Charged Off  ...   \n",
       "1  Does not meet the credit policy. Status:Fully ...  ...   \n",
       "2                                        Charged Off  ...   \n",
       "3                                         Fully Paid  ...   \n",
       "4                                         Fully Paid  ...   \n",
       "\n",
       "  mths_since_last_delinq open_acc  pub_rec  total_pymnt  total_pymnt_inv  \\\n",
       "0                    NaN      0.0      0.0     0.000000             0.00   \n",
       "1                    NaN      7.0      0.0  3075.291779          3075.29   \n",
       "2                   59.0      7.0      0.0  2948.760000          2948.76   \n",
       "3                    3.0      7.0      0.0  8082.391880          8082.39   \n",
       "4                   72.0      7.0      0.0  2161.663244          2161.66   \n",
       "\n",
       "   total_rec_prncp  total_rec_int  last_pymnt_d  last_pymnt_amnt  repay_fail  \n",
       "0             0.00           0.00        Jan-07             0.00           1  \n",
       "1          2500.00         575.29        Jul-13            90.85           0  \n",
       "2          1909.02         873.81        Nov-11           175.67           1  \n",
       "3          7000.00        1082.39        Mar-14          1550.27           0  \n",
       "4          2000.00         161.66        Feb-14            53.12           0  \n",
       "\n",
       "[5 rows x 24 columns]"
      ]
     },
     "execution_count": 9,
     "metadata": {},
     "output_type": "execute_result"
    }
   ],
   "source": [
    "raw_data = raw_data.drop(columns=['funded_amnt','funded_amnt_inv'])\n",
    "raw_data.head()"
   ]
  },
  {
   "cell_type": "code",
   "execution_count": 10,
   "metadata": {},
   "outputs": [
    {
     "data": {
      "text/plain": [
       "count    38480.00000\n",
       "mean        12.16430\n",
       "std          3.73744\n",
       "min          0.00000\n",
       "25%          9.62000\n",
       "50%         11.99000\n",
       "75%         14.72000\n",
       "max        100.99000\n",
       "Name: int_rate, dtype: float64"
      ]
     },
     "execution_count": 10,
     "metadata": {},
     "output_type": "execute_result"
    }
   ],
   "source": [
    "# Ahora examinemos int_rate\n",
    "raw_data['int_rate'].describe()"
   ]
  },
  {
   "cell_type": "code",
   "execution_count": 11,
   "metadata": {},
   "outputs": [
    {
     "data": {
      "image/png": "[encoded data removed]",
      "text/plain": [
       "<Figure size 1000x500 with 1 Axes>"
      ]
     },
     "metadata": {},
     "output_type": "display_data"
    }
   ],
   "source": [
    "plt.figure(figsize=(10, 5))\n",
    "plt.hist(raw_data['int_rate'], bins=30, color='purple', alpha=0.7) \n",
    "plt.title('Interest Rate Distribution')\n",
    "plt.xlabel('Interest Rate')\n",
    "plt.ylabel('Frequency')\n",
    "plt.show()"
   ]
  },
  {
   "cell_type": "code",
   "execution_count": 12,
   "metadata": {},
   "outputs": [
    {
     "name": "stdout",
     "output_type": "stream",
     "text": [
      "54       100.99\n",
      "5761      24.11\n",
      "23818     24.11\n",
      "Name: int_rate, dtype: float64\n",
      "0     0.00\n",
      "4     5.42\n",
      "47    5.42\n",
      "Name: int_rate, dtype: float64\n"
     ]
    }
   ],
   "source": [
    "top_3_int_rate = raw_data['int_rate'].nlargest(3)\n",
    "print(top_3_int_rate)\n",
    "low_3_int_rate = raw_data['int_rate'].nsmallest(3)\n",
    "print(low_3_int_rate)"
   ]
  },
  {
   "cell_type": "markdown",
   "metadata": {},
   "source": [
    "Parece ser que fuera de los valores de la primera fila (0) y de la fila 54 (100.99), no tenemos outliers en interest rate."
   ]
  },
  {
   "cell_type": "code",
   "execution_count": 13,
   "metadata": {},
   "outputs": [
    {
     "name": "stdout",
     "output_type": "stream",
     "text": [
      "term\n",
      "36 months    28593\n",
      "60 months     9887\n",
      "Name: count, dtype: int64\n"
     ]
    }
   ],
   "source": [
    "# Examinemos la columna term\n",
    "term_summary = raw_data['term'].value_counts()\n",
    "print(term_summary)"
   ]
  },
  {
   "cell_type": "markdown",
   "metadata": {},
   "source": [
    "Solo hay dos valores en esta fila, considerar reemplazar la columna por una variable boolean long_term que sea True para prestamos de 60 meses y False para prestamos de 36 meses"
   ]
  },
  {
   "cell_type": "code",
   "execution_count": 14,
   "metadata": {},
   "outputs": [
    {
     "name": "stdout",
     "output_type": "stream",
     "text": [
      "12927    1305.19\n",
      "20821    1302.69\n",
      "5397     1295.21\n",
      "Name: installment, dtype: float64\n",
      "0         0.00\n",
      "36536    15.67\n",
      "24998    15.69\n",
      "Name: installment, dtype: float64\n"
     ]
    },
    {
     "data": {
      "text/plain": [
       "count    38479.000000\n",
       "mean       323.163255\n",
       "std        209.089097\n",
       "min          0.000000\n",
       "25%        165.740000\n",
       "50%        277.980000\n",
       "75%        429.350000\n",
       "max       1305.190000\n",
       "Name: installment, dtype: float64"
      ]
     },
     "execution_count": 14,
     "metadata": {},
     "output_type": "execute_result"
    }
   ],
   "source": [
    "# Examinemos la columna installment\n",
    "top_3_installment = raw_data['installment'].nlargest(3)\n",
    "print(top_3_installment)\n",
    "low_3_installment = raw_data['installment'].nsmallest(3)\n",
    "print(low_3_installment)\n",
    "raw_data['installment'].describe()"
   ]
  },
  {
   "cell_type": "code",
   "execution_count": 15,
   "metadata": {},
   "outputs": [
    {
     "name": "stdout",
     "output_type": "stream",
     "text": [
      "emp_length\n",
      "10+ years    8465\n",
      "< 1 year     4565\n",
      "2 years      4292\n",
      "3 years      3939\n",
      "4 years      3314\n",
      "1 year       3254\n",
      "5 years      3171\n",
      "6 years      2144\n",
      "7 years      1702\n",
      "8 years      1445\n",
      "9 years      1196\n",
      "NaN           993\n",
      "Name: count, dtype: int64\n"
     ]
    }
   ],
   "source": [
    "# Examinemos la columna employment_length\n",
    "emp_length_summary = raw_data['emp_length'].value_counts(dropna=False)\n",
    "print(emp_length_summary)"
   ]
  },
  {
   "cell_type": "code",
   "execution_count": 16,
   "metadata": {},
   "outputs": [
    {
     "name": "stdout",
     "output_type": "stream",
     "text": [
      "home_ownership\n",
      "RENT        18253\n",
      "MORTGAGE    17140\n",
      "OWN          2958\n",
      "OTHER         125\n",
      "NONE            4\n",
      "Name: count, dtype: int64\n"
     ]
    }
   ],
   "source": [
    "# Examinemos la columna home_ownership\n",
    "home_ownership_summary = raw_data['home_ownership'].value_counts(dropna=False)\n",
    "print(home_ownership_summary)"
   ]
  },
  {
   "cell_type": "code",
   "execution_count": 17,
   "metadata": {},
   "outputs": [
    {
     "name": "stdout",
     "output_type": "stream",
     "text": [
      "count     38478.00\n",
      "mean      68995.31\n",
      "std       64476.39\n",
      "min           0.00\n",
      "25%       40000.00\n",
      "50%       58650.00\n",
      "75%       82000.00\n",
      "max     6000000.00\n",
      "Name: annual_inc, dtype: float64\n"
     ]
    }
   ],
   "source": [
    "# Examinemos la columna annual_inc\n",
    "pd.set_option('display.float_format', '{:.2f}'.format)\n",
    "\n",
    "# Describe the annual_inc column again\n",
    "print(raw_data['annual_inc'].describe())"
   ]
  },
  {
   "cell_type": "code",
   "execution_count": 18,
   "metadata": {},
   "outputs": [
    {
     "name": "stdout",
     "output_type": "stream",
     "text": [
      "6308    6000000.00\n",
      "30071   3900000.00\n",
      "19952   2039784.00\n",
      "18171   1782000.00\n",
      "9430    1440000.00\n",
      "11025   1440000.00\n",
      "37295   1362000.00\n",
      "30890   1250000.00\n",
      "18476   1200000.00\n",
      "31205   1200000.00\n",
      "Name: annual_inc, dtype: float64\n"
     ]
    }
   ],
   "source": [
    "top_10_annual_inc = raw_data['annual_inc'].nlargest(10)\n",
    "print(top_10_annual_inc)"
   ]
  },
  {
   "cell_type": "code",
   "execution_count": 19,
   "metadata": {},
   "outputs": [
    {
     "data": {
      "image/png": "[encoded data removed]",
      "text/plain": [
       "<Figure size 1000x500 with 1 Axes>"
      ]
     },
     "metadata": {},
     "output_type": "display_data"
    }
   ],
   "source": [
    "# Creemos un histograma de la columna annual_inc\n",
    "plt.figure(figsize=(10, 5))\n",
    "plt.hist(raw_data['annual_inc'], bins=30, color='cyan', alpha=0.7)\n",
    "plt.title('Annual Income Distribution')\n",
    "plt.xlabel('Annual Income')\n",
    "plt.ylabel('Frequency')\n",
    "plt.show()"
   ]
  },
  {
   "cell_type": "markdown",
   "metadata": {},
   "source": [
    "Installment, home ownership y employment length no parecen tener problemas además de los NaN ya mencionados.\n",
    "\n",
    "En annual_inc, tal vez deberíamos considerar eliminar las filas con ingresos superiores a $1 millon anuales."
   ]
  },
  {
   "cell_type": "code",
   "execution_count": 20,
   "metadata": {},
   "outputs": [
    {
     "data": {
      "text/html": [
       "<div>\n",
       "<style scoped>\n",
       "    .dataframe tbody tr th:only-of-type {\n",
       "        vertical-align: middle;\n",
       "    }\n",
       "\n",
       "    .dataframe tbody tr th {\n",
       "        vertical-align: top;\n",
       "    }\n",
       "\n",
       "    .dataframe thead th {\n",
       "        text-align: right;\n",
       "    }\n",
       "</style>\n",
       "<table border=\"1\" class=\"dataframe\">\n",
       "  <thead>\n",
       "    <tr style=\"text-align: right;\">\n",
       "      <th></th>\n",
       "      <th>loan_amnt</th>\n",
       "      <th>term</th>\n",
       "      <th>int_rate</th>\n",
       "      <th>installment</th>\n",
       "      <th>emp_length</th>\n",
       "      <th>home_ownership</th>\n",
       "      <th>annual_inc</th>\n",
       "      <th>verification_status</th>\n",
       "      <th>issue_d</th>\n",
       "      <th>loan_status</th>\n",
       "      <th>...</th>\n",
       "      <th>mths_since_last_delinq</th>\n",
       "      <th>open_acc</th>\n",
       "      <th>pub_rec</th>\n",
       "      <th>total_pymnt</th>\n",
       "      <th>total_pymnt_inv</th>\n",
       "      <th>total_rec_prncp</th>\n",
       "      <th>total_rec_int</th>\n",
       "      <th>last_pymnt_d</th>\n",
       "      <th>last_pymnt_amnt</th>\n",
       "      <th>repay_fail</th>\n",
       "    </tr>\n",
       "  </thead>\n",
       "  <tbody>\n",
       "    <tr>\n",
       "      <th>0</th>\n",
       "      <td>0.00</td>\n",
       "      <td>36 months</td>\n",
       "      <td>0.00</td>\n",
       "      <td>0.00</td>\n",
       "      <td>&lt; 1 year</td>\n",
       "      <td>RENT</td>\n",
       "      <td>0.00</td>\n",
       "      <td>Not Verified</td>\n",
       "      <td>Dec-99</td>\n",
       "      <td>Charged Off</td>\n",
       "      <td>...</td>\n",
       "      <td>NaN</td>\n",
       "      <td>0.00</td>\n",
       "      <td>0.00</td>\n",
       "      <td>0.00</td>\n",
       "      <td>0.00</td>\n",
       "      <td>0.00</td>\n",
       "      <td>0.00</td>\n",
       "      <td>Jan-07</td>\n",
       "      <td>0.00</td>\n",
       "      <td>1</td>\n",
       "    </tr>\n",
       "    <tr>\n",
       "      <th>1</th>\n",
       "      <td>2500.00</td>\n",
       "      <td>36 months</td>\n",
       "      <td>13.98</td>\n",
       "      <td>85.42</td>\n",
       "      <td>4 years</td>\n",
       "      <td>RENT</td>\n",
       "      <td>20004.00</td>\n",
       "      <td>Not Verified</td>\n",
       "      <td>Jul-10</td>\n",
       "      <td>Does not meet the credit policy. Status:Fully ...</td>\n",
       "      <td>...</td>\n",
       "      <td>NaN</td>\n",
       "      <td>7.00</td>\n",
       "      <td>0.00</td>\n",
       "      <td>3075.29</td>\n",
       "      <td>3075.29</td>\n",
       "      <td>2500.00</td>\n",
       "      <td>575.29</td>\n",
       "      <td>Jul-13</td>\n",
       "      <td>90.85</td>\n",
       "      <td>0</td>\n",
       "    </tr>\n",
       "    <tr>\n",
       "      <th>2</th>\n",
       "      <td>5000.00</td>\n",
       "      <td>36 months</td>\n",
       "      <td>15.95</td>\n",
       "      <td>175.67</td>\n",
       "      <td>4 years</td>\n",
       "      <td>RENT</td>\n",
       "      <td>59000.00</td>\n",
       "      <td>Not Verified</td>\n",
       "      <td>Jun-10</td>\n",
       "      <td>Charged Off</td>\n",
       "      <td>...</td>\n",
       "      <td>59.00</td>\n",
       "      <td>7.00</td>\n",
       "      <td>0.00</td>\n",
       "      <td>2948.76</td>\n",
       "      <td>2948.76</td>\n",
       "      <td>1909.02</td>\n",
       "      <td>873.81</td>\n",
       "      <td>Nov-11</td>\n",
       "      <td>175.67</td>\n",
       "      <td>1</td>\n",
       "    </tr>\n",
       "    <tr>\n",
       "      <th>3</th>\n",
       "      <td>7000.00</td>\n",
       "      <td>36 months</td>\n",
       "      <td>9.91</td>\n",
       "      <td>225.58</td>\n",
       "      <td>10+ years</td>\n",
       "      <td>MORTGAGE</td>\n",
       "      <td>53796.00</td>\n",
       "      <td>Not Verified</td>\n",
       "      <td>Sep-11</td>\n",
       "      <td>Fully Paid</td>\n",
       "      <td>...</td>\n",
       "      <td>3.00</td>\n",
       "      <td>7.00</td>\n",
       "      <td>0.00</td>\n",
       "      <td>8082.39</td>\n",
       "      <td>8082.39</td>\n",
       "      <td>7000.00</td>\n",
       "      <td>1082.39</td>\n",
       "      <td>Mar-14</td>\n",
       "      <td>1550.27</td>\n",
       "      <td>0</td>\n",
       "    </tr>\n",
       "    <tr>\n",
       "      <th>4</th>\n",
       "      <td>2000.00</td>\n",
       "      <td>36 months</td>\n",
       "      <td>5.42</td>\n",
       "      <td>60.32</td>\n",
       "      <td>10+ years</td>\n",
       "      <td>RENT</td>\n",
       "      <td>30000.00</td>\n",
       "      <td>Not Verified</td>\n",
       "      <td>Sep-11</td>\n",
       "      <td>Fully Paid</td>\n",
       "      <td>...</td>\n",
       "      <td>72.00</td>\n",
       "      <td>7.00</td>\n",
       "      <td>0.00</td>\n",
       "      <td>2161.66</td>\n",
       "      <td>2161.66</td>\n",
       "      <td>2000.00</td>\n",
       "      <td>161.66</td>\n",
       "      <td>Feb-14</td>\n",
       "      <td>53.12</td>\n",
       "      <td>0</td>\n",
       "    </tr>\n",
       "  </tbody>\n",
       "</table>\n",
       "<p>5 rows × 24 columns</p>\n",
       "</div>"
      ],
      "text/plain": [
       "   loan_amnt       term  int_rate  installment emp_length home_ownership  \\\n",
       "0       0.00  36 months      0.00         0.00   < 1 year           RENT   \n",
       "1    2500.00  36 months     13.98        85.42    4 years           RENT   \n",
       "2    5000.00  36 months     15.95       175.67    4 years           RENT   \n",
       "3    7000.00  36 months      9.91       225.58  10+ years       MORTGAGE   \n",
       "4    2000.00  36 months      5.42        60.32  10+ years           RENT   \n",
       "\n",
       "   annual_inc verification_status issue_d  \\\n",
       "0        0.00        Not Verified  Dec-99   \n",
       "1    20004.00        Not Verified  Jul-10   \n",
       "2    59000.00        Not Verified  Jun-10   \n",
       "3    53796.00        Not Verified  Sep-11   \n",
       "4    30000.00        Not Verified  Sep-11   \n",
       "\n",
       "                                         loan_status  ...  \\\n",
       "0                                        Charged Off  ...   \n",
       "1  Does not meet the credit policy. Status:Fully ...  ...   \n",
       "2                                        Charged Off  ...   \n",
       "3                                         Fully Paid  ...   \n",
       "4                                         Fully Paid  ...   \n",
       "\n",
       "  mths_since_last_delinq open_acc  pub_rec  total_pymnt  total_pymnt_inv  \\\n",
       "0                    NaN     0.00     0.00         0.00             0.00   \n",
       "1                    NaN     7.00     0.00      3075.29          3075.29   \n",
       "2                  59.00     7.00     0.00      2948.76          2948.76   \n",
       "3                   3.00     7.00     0.00      8082.39          8082.39   \n",
       "4                  72.00     7.00     0.00      2161.66          2161.66   \n",
       "\n",
       "   total_rec_prncp  total_rec_int  last_pymnt_d  last_pymnt_amnt  repay_fail  \n",
       "0             0.00           0.00        Jan-07             0.00           1  \n",
       "1          2500.00         575.29        Jul-13            90.85           0  \n",
       "2          1909.02         873.81        Nov-11           175.67           1  \n",
       "3          7000.00        1082.39        Mar-14          1550.27           0  \n",
       "4          2000.00         161.66        Feb-14            53.12           0  \n",
       "\n",
       "[5 rows x 24 columns]"
      ]
     },
     "execution_count": 20,
     "metadata": {},
     "output_type": "execute_result"
    }
   ],
   "source": [
    "raw_data.head()"
   ]
  },
  {
   "cell_type": "code",
   "execution_count": 21,
   "metadata": {},
   "outputs": [
    {
     "name": "stdout",
     "output_type": "stream",
     "text": [
      "verification_status\n",
      "Not Verified       16962\n",
      "Verified           12170\n",
      "Source Verified     9348\n",
      "Name: count, dtype: int64\n"
     ]
    }
   ],
   "source": [
    "# Examinemos la columna verification_status\n",
    "verification_status_summary = raw_data['verification_status'].value_counts(dropna=False)\n",
    "print(verification_status_summary)"
   ]
  },
  {
   "cell_type": "markdown",
   "metadata": {},
   "source": [
    "Podriamos reemplazar esta columna por una boolean llamada \"employment_verified\", juntando los vaalores Verified y Source Verified"
   ]
  },
  {
   "cell_type": "code",
   "execution_count": 22,
   "metadata": {},
   "outputs": [
    {
     "name": "stdout",
     "output_type": "stream",
     "text": [
      "purpose\n",
      "debt_consolidation    17917\n",
      "credit_card            4974\n",
      "other                  3950\n",
      "home_improvement       2901\n",
      "major_purchase         2079\n",
      "small_business         1808\n",
      "car                    1481\n",
      "wedding                 909\n",
      "medical                 675\n",
      "moving                  562\n",
      "house                   387\n",
      "educational             386\n",
      "vacation                360\n",
      "renewable_energy         91\n",
      "Name: count, dtype: int64\n"
     ]
    }
   ],
   "source": [
    "# Examinemos la columna purpose\n",
    "purpose_summary = raw_data['purpose'].value_counts(dropna=False)\n",
    "print(purpose_summary)"
   ]
  },
  {
   "cell_type": "markdown",
   "metadata": {},
   "source": [
    "Esta columna podría ser útil, dejarla como está."
   ]
  },
  {
   "cell_type": "code",
   "execution_count": 23,
   "metadata": {},
   "outputs": [
    {
     "name": "stdout",
     "output_type": "stream",
     "text": [
      "loan_status\n",
      "Fully Paid                                             29987\n",
      "Charged Off                                             5111\n",
      "Does not meet the credit policy. Status:Fully Paid      1782\n",
      "Current                                                  867\n",
      "Does not meet the credit policy. Status:Charged Off      689\n",
      "Late (31-120 days)                                        20\n",
      "In Grace Period                                           15\n",
      "Late (16-30 days)                                          7\n",
      "Default                                                    2\n",
      "Name: count, dtype: int64\n"
     ]
    }
   ],
   "source": [
    "# Examinemos loan_status\n",
    "loan_status_summary = raw_data['loan_status'].value_counts(dropna=False)\n",
    "print(loan_status_summary)"
   ]
  },
  {
   "cell_type": "markdown",
   "metadata": {},
   "source": [
    "Consolidar categorias: Paid, Charged Off (Incluir Default), Current (Incluir Grace Period), Late\n",
    "\n",
    "Esto también vuelve un tanto redundante a la columna 'repay_fail'"
   ]
  },
  {
   "cell_type": "code",
   "execution_count": 24,
   "metadata": {},
   "outputs": [
    {
     "name": "stdout",
     "output_type": "stream",
     "text": [
      "addr_state\n",
      "CA    6754\n",
      "NY    3702\n",
      "FL    2803\n",
      "TX    2633\n",
      "NJ    1795\n",
      "IL    1523\n",
      "PA    1491\n",
      "GA    1371\n",
      "VA    1343\n",
      "MA    1285\n",
      "OH    1209\n",
      "MD    1010\n",
      "AZ     856\n",
      "WA     798\n",
      "CO     771\n",
      "NC     747\n",
      "CT     722\n",
      "MI     708\n",
      "MO     677\n",
      "MN     597\n",
      "NV     485\n",
      "WI     473\n",
      "AL     439\n",
      "SC     438\n",
      "OR     419\n",
      "LA     415\n",
      "KY     313\n",
      "OK     284\n",
      "KS     271\n",
      "UT     254\n",
      "AR     238\n",
      "DC     196\n",
      "NM     186\n",
      "RI     186\n",
      "NH     170\n",
      "HI     168\n",
      "WV     166\n",
      "DE     124\n",
      "MT      88\n",
      "WY      78\n",
      "AK      77\n",
      "SD      57\n",
      "VT      52\n",
      "TN      30\n",
      "MS      24\n",
      "IN      19\n",
      "IA      12\n",
      "NE      10\n",
      "ID       8\n",
      "ME       3\n",
      "AA       1\n",
      "ZZ       1\n",
      "Name: count, dtype: int64\n"
     ]
    }
   ],
   "source": [
    "# Examinemos la columna address_state\n",
    "address_state_summary = raw_data['addr_state'].value_counts(dropna=False)\n",
    "print(address_state_summary)"
   ]
  },
  {
   "cell_type": "markdown",
   "metadata": {},
   "source": [
    "En base al número de valores distintos, quizás sea apropiado eliminar esta columna y concentrarse en el historial de pago."
   ]
  },
  {
   "cell_type": "code",
   "execution_count": 25,
   "metadata": {},
   "outputs": [
    {
     "name": "stdout",
     "output_type": "stream",
     "text": [
      "count   38480.00\n",
      "mean       13.38\n",
      "std         6.74\n",
      "min         0.00\n",
      "25%         8.20\n",
      "50%        13.48\n",
      "75%        18.69\n",
      "max       100.00\n",
      "Name: dti, dtype: float64\n"
     ]
    }
   ],
   "source": [
    "# Examinemos la columna dti\n",
    "dti_summary = raw_data['dti'].describe()\n",
    "print(dti_summary)"
   ]
  },
  {
   "cell_type": "code",
   "execution_count": 26,
   "metadata": {},
   "outputs": [
    {
     "name": "stdout",
     "output_type": "stream",
     "text": [
      "count   38479.00\n",
      "mean        0.15\n",
      "std         0.51\n",
      "min         0.00\n",
      "25%         0.00\n",
      "50%         0.00\n",
      "75%         0.00\n",
      "max        11.00\n",
      "Name: delinq_2yrs, dtype: float64\n"
     ]
    }
   ],
   "source": [
    "# Examinemos la columna delinq_2yrs\n",
    "delinq_2yrs_summary = raw_data['delinq_2yrs'].describe()\n",
    "print(delinq_2yrs_summary)"
   ]
  },
  {
   "cell_type": "code",
   "execution_count": 27,
   "metadata": {},
   "outputs": [
    {
     "data": {
      "image/png": "[encoded data removed]",
      "text/plain": [
       "<Figure size 1000x500 with 1 Axes>"
      ]
     },
     "metadata": {},
     "output_type": "display_data"
    }
   ],
   "source": [
    "# Creemos un histograma de la columna delinq_2yrs\n",
    "plt.figure(figsize=(10, 5))\n",
    "plt.hist(raw_data['delinq_2yrs'], bins=30, color='magenta', alpha=0.7)\n",
    "plt.title('Delinquency in Last 2 Years Distribution')\n",
    "plt.xlabel('Delinquency in Last 2 Years')\n",
    "plt.ylabel('Frequency')\n",
    "plt.show()"
   ]
  },
  {
   "cell_type": "markdown",
   "metadata": {},
   "source": [
    "Mantendremos la columna delinq_2yrs, ya que no tiene valores nulos."
   ]
  },
  {
   "cell_type": "code",
   "execution_count": 28,
   "metadata": {},
   "outputs": [
    {
     "name": "stdout",
     "output_type": "stream",
     "text": [
      "count   38479.00\n",
      "mean        9.34\n",
      "std         4.50\n",
      "min         0.00\n",
      "25%         6.00\n",
      "50%         9.00\n",
      "75%        12.00\n",
      "max        47.00\n",
      "Name: open_acc, dtype: float64\n"
     ]
    }
   ],
   "source": [
    "# Examinemos la columna open_acc\n",
    "open_acc_summary = raw_data['open_acc'].describe()\n",
    "print(open_acc_summary)"
   ]
  },
  {
   "cell_type": "code",
   "execution_count": 29,
   "metadata": {},
   "outputs": [
    {
     "data": {
      "image/png": "[encoded data removed]",
      "text/plain": [
       "<Figure size 1000x500 with 1 Axes>"
      ]
     },
     "metadata": {},
     "output_type": "display_data"
    }
   ],
   "source": [
    "# Creemos un histograma de la columna pub_rec\n",
    "plt.figure(figsize=(10, 5))\n",
    "plt.hist(raw_data['pub_rec'], bins=30, color='yellow', alpha=0.7)\n",
    "plt.title('Public Records Distribution')\n",
    "plt.xlabel('Public Records')\n",
    "plt.ylabel('Frequency')\n",
    "plt.show()"
   ]
  },
  {
   "cell_type": "code",
   "execution_count": 32,
   "metadata": {},
   "outputs": [
    {
     "name": "stdout",
     "output_type": "stream",
     "text": [
      "count   14117.00\n",
      "mean       35.01\n",
      "std        22.43\n",
      "min         0.00\n",
      "25%        17.00\n",
      "50%        33.00\n",
      "75%        51.00\n",
      "max       120.00\n",
      "Name: mths_since_last_delinq, dtype: float64\n"
     ]
    }
   ],
   "source": [
    "# Examinemos la columna mths_since_last_delinq\n",
    "months_since_last_delinq_summary = raw_data['mths_since_last_delinq'].describe()\n",
    "print(months_since_last_delinq_summary)"
   ]
  },
  {
   "cell_type": "markdown",
   "metadata": {},
   "source": [
    "# Resumen/Notas para el siguiente paso:\n",
    "\n",
    "* Eliminar registros 0 y 54\n",
    "* Lidiar con los valores NaN en emp_length, mths_since_last_delinq, y last_pymnt_d\n",
    "* Considerar crear la columna 'time_to_delinq'\n",
    "* Considerar dividir las fechas en columnas de mes y año\n",
    "* Crear long_term en lugar de la duración del préstamo\n",
    "* Eliminar outliers en income\n",
    "* Crear employment_verified\n",
    "* Eliminar la mayoría de columnas relacionadas con el historial crediticio\n",
    "* Consolidar los valores de loan_status y eliminar repay_fail"
   ]
  },
  {
   "cell_type": "markdown",
   "metadata": {},
   "source": []
  }
 ],
 "metadata": {
  "kernelspec": {
   "display_name": "data_science",
   "language": "python",
   "name": "python3"
  },
  "language_info": {
   "codemirror_mode": {
    "name": "ipython",
    "version": 3
   },
   "file_extension": ".py",
   "mimetype": "text/x-python",
   "name": "python",
   "nbconvert_exporter": "python",
   "pygments_lexer": "ipython3",
   "version": "3.10.13"
  }
 },
 "nbformat": 4,
 "nbformat_minor": 2
}
